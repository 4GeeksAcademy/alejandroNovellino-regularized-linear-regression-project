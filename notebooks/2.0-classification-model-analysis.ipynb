{
 "cells": [
  {
   "cell_type": "markdown",
   "metadata": {},
   "source": "# Get the data"
  },
  {
   "metadata": {},
   "cell_type": "markdown",
   "source": "Get the data processed in the previous notebook (Exploratory Data Analysis)"
  },
  {
   "cell_type": "code",
   "metadata": {
    "ExecuteTime": {
     "end_time": "2025-04-13T02:38:05.341158Z",
     "start_time": "2025-04-13T02:38:05.337143Z"
    }
   },
   "source": "import pandas as pd",
   "outputs": [],
   "execution_count": 1
  },
  {
   "cell_type": "code",
   "metadata": {
    "ExecuteTime": {
     "end_time": "2025-04-13T02:38:05.365241Z",
     "start_time": "2025-04-13T02:38:05.345172Z"
    }
   },
   "source": [
    "from src.constants import X_TRAIN_PATH, X_TEST_PATH, Y_TRAIN_PATH, Y_TEST_PATH\n",
    "\n",
    "# save the processed data to their corresponding files\n",
    "X_train = pd.read_csv(filepath_or_buffer=X_TRAIN_PATH, sep=',')\n",
    "X_test = pd.read_csv(filepath_or_buffer=X_TEST_PATH, sep=',')\n",
    "\n",
    "y_train = pd.read_csv(filepath_or_buffer=Y_TRAIN_PATH, sep=',')\n",
    "y_train = y_train['class'].to_numpy()\n",
    "\n",
    "y_test = pd.read_csv(filepath_or_buffer=Y_TEST_PATH, sep=',')\n",
    "y_test = y_test['class'].to_numpy()"
   ],
   "outputs": [],
   "execution_count": 2
  },
  {
   "cell_type": "code",
   "metadata": {
    "ExecuteTime": {
     "end_time": "2025-04-13T02:38:05.673014Z",
     "start_time": "2025-04-13T02:38:05.662480Z"
    }
   },
   "source": [
    "# verify x_train\n",
    "X_train.head()"
   ],
   "outputs": [
    {
     "data": {
      "text/plain": [
       "   Latitude  Longitude  MedInc\n",
       "0     32.71    -117.03  3.2596\n",
       "1     33.77    -118.16  3.8125\n",
       "2     34.66    -120.48  4.1563\n",
       "3     32.69    -117.11  1.9425\n",
       "4     36.78    -119.80  3.5542"
      ],
      "text/html": [
       "<div>\n",
       "<style scoped>\n",
       "    .dataframe tbody tr th:only-of-type {\n",
       "        vertical-align: middle;\n",
       "    }\n",
       "\n",
       "    .dataframe tbody tr th {\n",
       "        vertical-align: top;\n",
       "    }\n",
       "\n",
       "    .dataframe thead th {\n",
       "        text-align: right;\n",
       "    }\n",
       "</style>\n",
       "<table border=\"1\" class=\"dataframe\">\n",
       "  <thead>\n",
       "    <tr style=\"text-align: right;\">\n",
       "      <th></th>\n",
       "      <th>Latitude</th>\n",
       "      <th>Longitude</th>\n",
       "      <th>MedInc</th>\n",
       "    </tr>\n",
       "  </thead>\n",
       "  <tbody>\n",
       "    <tr>\n",
       "      <th>0</th>\n",
       "      <td>32.71</td>\n",
       "      <td>-117.03</td>\n",
       "      <td>3.2596</td>\n",
       "    </tr>\n",
       "    <tr>\n",
       "      <th>1</th>\n",
       "      <td>33.77</td>\n",
       "      <td>-118.16</td>\n",
       "      <td>3.8125</td>\n",
       "    </tr>\n",
       "    <tr>\n",
       "      <th>2</th>\n",
       "      <td>34.66</td>\n",
       "      <td>-120.48</td>\n",
       "      <td>4.1563</td>\n",
       "    </tr>\n",
       "    <tr>\n",
       "      <th>3</th>\n",
       "      <td>32.69</td>\n",
       "      <td>-117.11</td>\n",
       "      <td>1.9425</td>\n",
       "    </tr>\n",
       "    <tr>\n",
       "      <th>4</th>\n",
       "      <td>36.78</td>\n",
       "      <td>-119.80</td>\n",
       "      <td>3.5542</td>\n",
       "    </tr>\n",
       "  </tbody>\n",
       "</table>\n",
       "</div>"
      ]
     },
     "execution_count": 3,
     "metadata": {},
     "output_type": "execute_result"
    }
   ],
   "execution_count": 3
  },
  {
   "cell_type": "code",
   "metadata": {
    "ExecuteTime": {
     "end_time": "2025-04-13T02:38:05.721876Z",
     "start_time": "2025-04-13T02:38:05.714364Z"
    }
   },
   "source": [
    "# verify x_test\n",
    "X_test.head()"
   ],
   "outputs": [
    {
     "data": {
      "text/plain": [
       "   Latitude  Longitude  MedInc\n",
       "0     36.06    -119.01  1.6812\n",
       "1     35.14    -119.46  2.5313\n",
       "2     37.80    -122.44  3.4801\n",
       "3     34.28    -118.72  5.7376\n",
       "4     36.62    -121.93  3.7250"
      ],
      "text/html": [
       "<div>\n",
       "<style scoped>\n",
       "    .dataframe tbody tr th:only-of-type {\n",
       "        vertical-align: middle;\n",
       "    }\n",
       "\n",
       "    .dataframe tbody tr th {\n",
       "        vertical-align: top;\n",
       "    }\n",
       "\n",
       "    .dataframe thead th {\n",
       "        text-align: right;\n",
       "    }\n",
       "</style>\n",
       "<table border=\"1\" class=\"dataframe\">\n",
       "  <thead>\n",
       "    <tr style=\"text-align: right;\">\n",
       "      <th></th>\n",
       "      <th>Latitude</th>\n",
       "      <th>Longitude</th>\n",
       "      <th>MedInc</th>\n",
       "    </tr>\n",
       "  </thead>\n",
       "  <tbody>\n",
       "    <tr>\n",
       "      <th>0</th>\n",
       "      <td>36.06</td>\n",
       "      <td>-119.01</td>\n",
       "      <td>1.6812</td>\n",
       "    </tr>\n",
       "    <tr>\n",
       "      <th>1</th>\n",
       "      <td>35.14</td>\n",
       "      <td>-119.46</td>\n",
       "      <td>2.5313</td>\n",
       "    </tr>\n",
       "    <tr>\n",
       "      <th>2</th>\n",
       "      <td>37.80</td>\n",
       "      <td>-122.44</td>\n",
       "      <td>3.4801</td>\n",
       "    </tr>\n",
       "    <tr>\n",
       "      <th>3</th>\n",
       "      <td>34.28</td>\n",
       "      <td>-118.72</td>\n",
       "      <td>5.7376</td>\n",
       "    </tr>\n",
       "    <tr>\n",
       "      <th>4</th>\n",
       "      <td>36.62</td>\n",
       "      <td>-121.93</td>\n",
       "      <td>3.7250</td>\n",
       "    </tr>\n",
       "  </tbody>\n",
       "</table>\n",
       "</div>"
      ]
     },
     "execution_count": 4,
     "metadata": {},
     "output_type": "execute_result"
    }
   ],
   "execution_count": 4
  },
  {
   "cell_type": "code",
   "metadata": {
    "ExecuteTime": {
     "end_time": "2025-04-13T02:38:05.768259Z",
     "start_time": "2025-04-13T02:38:05.763907Z"
    }
   },
   "source": [
    "# verify y_train\n",
    "y_train"
   ],
   "outputs": [
    {
     "data": {
      "text/plain": [
       "array([3, 3, 4, ..., 3, 2, 1])"
      ]
     },
     "execution_count": 5,
     "metadata": {},
     "output_type": "execute_result"
    }
   ],
   "execution_count": 5
  },
  {
   "cell_type": "code",
   "metadata": {
    "ExecuteTime": {
     "end_time": "2025-04-13T02:38:05.886278Z",
     "start_time": "2025-04-13T02:38:05.881273Z"
    }
   },
   "source": [
    "# verify y_test\n",
    "y_test"
   ],
   "outputs": [
    {
     "data": {
      "text/plain": [
       "array([4, 4, 1, ..., 2, 4, 3])"
      ]
     },
     "execution_count": 6,
     "metadata": {},
     "output_type": "execute_result"
    }
   ],
   "execution_count": 6
  },
  {
   "cell_type": "markdown",
   "metadata": {},
   "source": "# Option 1. Default model"
  },
  {
   "cell_type": "markdown",
   "metadata": {},
   "source": [
    "## Step 1: Initialization and training of the model"
   ]
  },
  {
   "cell_type": "code",
   "metadata": {
    "ExecuteTime": {
     "end_time": "2025-04-13T02:38:13.895956Z",
     "start_time": "2025-04-13T02:38:05.945849Z"
    }
   },
   "source": [
    "from sklearn.ensemble import GradientBoostingClassifier\n",
    "\n",
    "model = GradientBoostingClassifier(random_state = 42)\n",
    "model.fit(X_train, y_train)"
   ],
   "outputs": [
    {
     "data": {
      "text/plain": [
       "GradientBoostingClassifier(random_state=42)"
      ],
      "text/html": [
       "<style>#sk-container-id-1 {\n",
       "  /* Definition of color scheme common for light and dark mode */\n",
       "  --sklearn-color-text: #000;\n",
       "  --sklearn-color-text-muted: #666;\n",
       "  --sklearn-color-line: gray;\n",
       "  /* Definition of color scheme for unfitted estimators */\n",
       "  --sklearn-color-unfitted-level-0: #fff5e6;\n",
       "  --sklearn-color-unfitted-level-1: #f6e4d2;\n",
       "  --sklearn-color-unfitted-level-2: #ffe0b3;\n",
       "  --sklearn-color-unfitted-level-3: chocolate;\n",
       "  /* Definition of color scheme for fitted estimators */\n",
       "  --sklearn-color-fitted-level-0: #f0f8ff;\n",
       "  --sklearn-color-fitted-level-1: #d4ebff;\n",
       "  --sklearn-color-fitted-level-2: #b3dbfd;\n",
       "  --sklearn-color-fitted-level-3: cornflowerblue;\n",
       "\n",
       "  /* Specific color for light theme */\n",
       "  --sklearn-color-text-on-default-background: var(--sg-text-color, var(--theme-code-foreground, var(--jp-content-font-color1, black)));\n",
       "  --sklearn-color-background: var(--sg-background-color, var(--theme-background, var(--jp-layout-color0, white)));\n",
       "  --sklearn-color-border-box: var(--sg-text-color, var(--theme-code-foreground, var(--jp-content-font-color1, black)));\n",
       "  --sklearn-color-icon: #696969;\n",
       "\n",
       "  @media (prefers-color-scheme: dark) {\n",
       "    /* Redefinition of color scheme for dark theme */\n",
       "    --sklearn-color-text-on-default-background: var(--sg-text-color, var(--theme-code-foreground, var(--jp-content-font-color1, white)));\n",
       "    --sklearn-color-background: var(--sg-background-color, var(--theme-background, var(--jp-layout-color0, #111)));\n",
       "    --sklearn-color-border-box: var(--sg-text-color, var(--theme-code-foreground, var(--jp-content-font-color1, white)));\n",
       "    --sklearn-color-icon: #878787;\n",
       "  }\n",
       "}\n",
       "\n",
       "#sk-container-id-1 {\n",
       "  color: var(--sklearn-color-text);\n",
       "}\n",
       "\n",
       "#sk-container-id-1 pre {\n",
       "  padding: 0;\n",
       "}\n",
       "\n",
       "#sk-container-id-1 input.sk-hidden--visually {\n",
       "  border: 0;\n",
       "  clip: rect(1px 1px 1px 1px);\n",
       "  clip: rect(1px, 1px, 1px, 1px);\n",
       "  height: 1px;\n",
       "  margin: -1px;\n",
       "  overflow: hidden;\n",
       "  padding: 0;\n",
       "  position: absolute;\n",
       "  width: 1px;\n",
       "}\n",
       "\n",
       "#sk-container-id-1 div.sk-dashed-wrapped {\n",
       "  border: 1px dashed var(--sklearn-color-line);\n",
       "  margin: 0 0.4em 0.5em 0.4em;\n",
       "  box-sizing: border-box;\n",
       "  padding-bottom: 0.4em;\n",
       "  background-color: var(--sklearn-color-background);\n",
       "}\n",
       "\n",
       "#sk-container-id-1 div.sk-container {\n",
       "  /* jupyter's `normalize.less` sets `[hidden] { display: none; }`\n",
       "     but bootstrap.min.css set `[hidden] { display: none !important; }`\n",
       "     so we also need the `!important` here to be able to override the\n",
       "     default hidden behavior on the sphinx rendered scikit-learn.org.\n",
       "     See: https://github.com/scikit-learn/scikit-learn/issues/21755 */\n",
       "  display: inline-block !important;\n",
       "  position: relative;\n",
       "}\n",
       "\n",
       "#sk-container-id-1 div.sk-text-repr-fallback {\n",
       "  display: none;\n",
       "}\n",
       "\n",
       "div.sk-parallel-item,\n",
       "div.sk-serial,\n",
       "div.sk-item {\n",
       "  /* draw centered vertical line to link estimators */\n",
       "  background-image: linear-gradient(var(--sklearn-color-text-on-default-background), var(--sklearn-color-text-on-default-background));\n",
       "  background-size: 2px 100%;\n",
       "  background-repeat: no-repeat;\n",
       "  background-position: center center;\n",
       "}\n",
       "\n",
       "/* Parallel-specific style estimator block */\n",
       "\n",
       "#sk-container-id-1 div.sk-parallel-item::after {\n",
       "  content: \"\";\n",
       "  width: 100%;\n",
       "  border-bottom: 2px solid var(--sklearn-color-text-on-default-background);\n",
       "  flex-grow: 1;\n",
       "}\n",
       "\n",
       "#sk-container-id-1 div.sk-parallel {\n",
       "  display: flex;\n",
       "  align-items: stretch;\n",
       "  justify-content: center;\n",
       "  background-color: var(--sklearn-color-background);\n",
       "  position: relative;\n",
       "}\n",
       "\n",
       "#sk-container-id-1 div.sk-parallel-item {\n",
       "  display: flex;\n",
       "  flex-direction: column;\n",
       "}\n",
       "\n",
       "#sk-container-id-1 div.sk-parallel-item:first-child::after {\n",
       "  align-self: flex-end;\n",
       "  width: 50%;\n",
       "}\n",
       "\n",
       "#sk-container-id-1 div.sk-parallel-item:last-child::after {\n",
       "  align-self: flex-start;\n",
       "  width: 50%;\n",
       "}\n",
       "\n",
       "#sk-container-id-1 div.sk-parallel-item:only-child::after {\n",
       "  width: 0;\n",
       "}\n",
       "\n",
       "/* Serial-specific style estimator block */\n",
       "\n",
       "#sk-container-id-1 div.sk-serial {\n",
       "  display: flex;\n",
       "  flex-direction: column;\n",
       "  align-items: center;\n",
       "  background-color: var(--sklearn-color-background);\n",
       "  padding-right: 1em;\n",
       "  padding-left: 1em;\n",
       "}\n",
       "\n",
       "\n",
       "/* Toggleable style: style used for estimator/Pipeline/ColumnTransformer box that is\n",
       "clickable and can be expanded/collapsed.\n",
       "- Pipeline and ColumnTransformer use this feature and define the default style\n",
       "- Estimators will overwrite some part of the style using the `sk-estimator` class\n",
       "*/\n",
       "\n",
       "/* Pipeline and ColumnTransformer style (default) */\n",
       "\n",
       "#sk-container-id-1 div.sk-toggleable {\n",
       "  /* Default theme specific background. It is overwritten whether we have a\n",
       "  specific estimator or a Pipeline/ColumnTransformer */\n",
       "  background-color: var(--sklearn-color-background);\n",
       "}\n",
       "\n",
       "/* Toggleable label */\n",
       "#sk-container-id-1 label.sk-toggleable__label {\n",
       "  cursor: pointer;\n",
       "  display: flex;\n",
       "  width: 100%;\n",
       "  margin-bottom: 0;\n",
       "  padding: 0.5em;\n",
       "  box-sizing: border-box;\n",
       "  text-align: center;\n",
       "  align-items: start;\n",
       "  justify-content: space-between;\n",
       "  gap: 0.5em;\n",
       "}\n",
       "\n",
       "#sk-container-id-1 label.sk-toggleable__label .caption {\n",
       "  font-size: 0.6rem;\n",
       "  font-weight: lighter;\n",
       "  color: var(--sklearn-color-text-muted);\n",
       "}\n",
       "\n",
       "#sk-container-id-1 label.sk-toggleable__label-arrow:before {\n",
       "  /* Arrow on the left of the label */\n",
       "  content: \"▸\";\n",
       "  float: left;\n",
       "  margin-right: 0.25em;\n",
       "  color: var(--sklearn-color-icon);\n",
       "}\n",
       "\n",
       "#sk-container-id-1 label.sk-toggleable__label-arrow:hover:before {\n",
       "  color: var(--sklearn-color-text);\n",
       "}\n",
       "\n",
       "/* Toggleable content - dropdown */\n",
       "\n",
       "#sk-container-id-1 div.sk-toggleable__content {\n",
       "  max-height: 0;\n",
       "  max-width: 0;\n",
       "  overflow: hidden;\n",
       "  text-align: left;\n",
       "  /* unfitted */\n",
       "  background-color: var(--sklearn-color-unfitted-level-0);\n",
       "}\n",
       "\n",
       "#sk-container-id-1 div.sk-toggleable__content.fitted {\n",
       "  /* fitted */\n",
       "  background-color: var(--sklearn-color-fitted-level-0);\n",
       "}\n",
       "\n",
       "#sk-container-id-1 div.sk-toggleable__content pre {\n",
       "  margin: 0.2em;\n",
       "  border-radius: 0.25em;\n",
       "  color: var(--sklearn-color-text);\n",
       "  /* unfitted */\n",
       "  background-color: var(--sklearn-color-unfitted-level-0);\n",
       "}\n",
       "\n",
       "#sk-container-id-1 div.sk-toggleable__content.fitted pre {\n",
       "  /* unfitted */\n",
       "  background-color: var(--sklearn-color-fitted-level-0);\n",
       "}\n",
       "\n",
       "#sk-container-id-1 input.sk-toggleable__control:checked~div.sk-toggleable__content {\n",
       "  /* Expand drop-down */\n",
       "  max-height: 200px;\n",
       "  max-width: 100%;\n",
       "  overflow: auto;\n",
       "}\n",
       "\n",
       "#sk-container-id-1 input.sk-toggleable__control:checked~label.sk-toggleable__label-arrow:before {\n",
       "  content: \"▾\";\n",
       "}\n",
       "\n",
       "/* Pipeline/ColumnTransformer-specific style */\n",
       "\n",
       "#sk-container-id-1 div.sk-label input.sk-toggleable__control:checked~label.sk-toggleable__label {\n",
       "  color: var(--sklearn-color-text);\n",
       "  background-color: var(--sklearn-color-unfitted-level-2);\n",
       "}\n",
       "\n",
       "#sk-container-id-1 div.sk-label.fitted input.sk-toggleable__control:checked~label.sk-toggleable__label {\n",
       "  background-color: var(--sklearn-color-fitted-level-2);\n",
       "}\n",
       "\n",
       "/* Estimator-specific style */\n",
       "\n",
       "/* Colorize estimator box */\n",
       "#sk-container-id-1 div.sk-estimator input.sk-toggleable__control:checked~label.sk-toggleable__label {\n",
       "  /* unfitted */\n",
       "  background-color: var(--sklearn-color-unfitted-level-2);\n",
       "}\n",
       "\n",
       "#sk-container-id-1 div.sk-estimator.fitted input.sk-toggleable__control:checked~label.sk-toggleable__label {\n",
       "  /* fitted */\n",
       "  background-color: var(--sklearn-color-fitted-level-2);\n",
       "}\n",
       "\n",
       "#sk-container-id-1 div.sk-label label.sk-toggleable__label,\n",
       "#sk-container-id-1 div.sk-label label {\n",
       "  /* The background is the default theme color */\n",
       "  color: var(--sklearn-color-text-on-default-background);\n",
       "}\n",
       "\n",
       "/* On hover, darken the color of the background */\n",
       "#sk-container-id-1 div.sk-label:hover label.sk-toggleable__label {\n",
       "  color: var(--sklearn-color-text);\n",
       "  background-color: var(--sklearn-color-unfitted-level-2);\n",
       "}\n",
       "\n",
       "/* Label box, darken color on hover, fitted */\n",
       "#sk-container-id-1 div.sk-label.fitted:hover label.sk-toggleable__label.fitted {\n",
       "  color: var(--sklearn-color-text);\n",
       "  background-color: var(--sklearn-color-fitted-level-2);\n",
       "}\n",
       "\n",
       "/* Estimator label */\n",
       "\n",
       "#sk-container-id-1 div.sk-label label {\n",
       "  font-family: monospace;\n",
       "  font-weight: bold;\n",
       "  display: inline-block;\n",
       "  line-height: 1.2em;\n",
       "}\n",
       "\n",
       "#sk-container-id-1 div.sk-label-container {\n",
       "  text-align: center;\n",
       "}\n",
       "\n",
       "/* Estimator-specific */\n",
       "#sk-container-id-1 div.sk-estimator {\n",
       "  font-family: monospace;\n",
       "  border: 1px dotted var(--sklearn-color-border-box);\n",
       "  border-radius: 0.25em;\n",
       "  box-sizing: border-box;\n",
       "  margin-bottom: 0.5em;\n",
       "  /* unfitted */\n",
       "  background-color: var(--sklearn-color-unfitted-level-0);\n",
       "}\n",
       "\n",
       "#sk-container-id-1 div.sk-estimator.fitted {\n",
       "  /* fitted */\n",
       "  background-color: var(--sklearn-color-fitted-level-0);\n",
       "}\n",
       "\n",
       "/* on hover */\n",
       "#sk-container-id-1 div.sk-estimator:hover {\n",
       "  /* unfitted */\n",
       "  background-color: var(--sklearn-color-unfitted-level-2);\n",
       "}\n",
       "\n",
       "#sk-container-id-1 div.sk-estimator.fitted:hover {\n",
       "  /* fitted */\n",
       "  background-color: var(--sklearn-color-fitted-level-2);\n",
       "}\n",
       "\n",
       "/* Specification for estimator info (e.g. \"i\" and \"?\") */\n",
       "\n",
       "/* Common style for \"i\" and \"?\" */\n",
       "\n",
       ".sk-estimator-doc-link,\n",
       "a:link.sk-estimator-doc-link,\n",
       "a:visited.sk-estimator-doc-link {\n",
       "  float: right;\n",
       "  font-size: smaller;\n",
       "  line-height: 1em;\n",
       "  font-family: monospace;\n",
       "  background-color: var(--sklearn-color-background);\n",
       "  border-radius: 1em;\n",
       "  height: 1em;\n",
       "  width: 1em;\n",
       "  text-decoration: none !important;\n",
       "  margin-left: 0.5em;\n",
       "  text-align: center;\n",
       "  /* unfitted */\n",
       "  border: var(--sklearn-color-unfitted-level-1) 1pt solid;\n",
       "  color: var(--sklearn-color-unfitted-level-1);\n",
       "}\n",
       "\n",
       ".sk-estimator-doc-link.fitted,\n",
       "a:link.sk-estimator-doc-link.fitted,\n",
       "a:visited.sk-estimator-doc-link.fitted {\n",
       "  /* fitted */\n",
       "  border: var(--sklearn-color-fitted-level-1) 1pt solid;\n",
       "  color: var(--sklearn-color-fitted-level-1);\n",
       "}\n",
       "\n",
       "/* On hover */\n",
       "div.sk-estimator:hover .sk-estimator-doc-link:hover,\n",
       ".sk-estimator-doc-link:hover,\n",
       "div.sk-label-container:hover .sk-estimator-doc-link:hover,\n",
       ".sk-estimator-doc-link:hover {\n",
       "  /* unfitted */\n",
       "  background-color: var(--sklearn-color-unfitted-level-3);\n",
       "  color: var(--sklearn-color-background);\n",
       "  text-decoration: none;\n",
       "}\n",
       "\n",
       "div.sk-estimator.fitted:hover .sk-estimator-doc-link.fitted:hover,\n",
       ".sk-estimator-doc-link.fitted:hover,\n",
       "div.sk-label-container:hover .sk-estimator-doc-link.fitted:hover,\n",
       ".sk-estimator-doc-link.fitted:hover {\n",
       "  /* fitted */\n",
       "  background-color: var(--sklearn-color-fitted-level-3);\n",
       "  color: var(--sklearn-color-background);\n",
       "  text-decoration: none;\n",
       "}\n",
       "\n",
       "/* Span, style for the box shown on hovering the info icon */\n",
       ".sk-estimator-doc-link span {\n",
       "  display: none;\n",
       "  z-index: 9999;\n",
       "  position: relative;\n",
       "  font-weight: normal;\n",
       "  right: .2ex;\n",
       "  padding: .5ex;\n",
       "  margin: .5ex;\n",
       "  width: min-content;\n",
       "  min-width: 20ex;\n",
       "  max-width: 50ex;\n",
       "  color: var(--sklearn-color-text);\n",
       "  box-shadow: 2pt 2pt 4pt #999;\n",
       "  /* unfitted */\n",
       "  background: var(--sklearn-color-unfitted-level-0);\n",
       "  border: .5pt solid var(--sklearn-color-unfitted-level-3);\n",
       "}\n",
       "\n",
       ".sk-estimator-doc-link.fitted span {\n",
       "  /* fitted */\n",
       "  background: var(--sklearn-color-fitted-level-0);\n",
       "  border: var(--sklearn-color-fitted-level-3);\n",
       "}\n",
       "\n",
       ".sk-estimator-doc-link:hover span {\n",
       "  display: block;\n",
       "}\n",
       "\n",
       "/* \"?\"-specific style due to the `<a>` HTML tag */\n",
       "\n",
       "#sk-container-id-1 a.estimator_doc_link {\n",
       "  float: right;\n",
       "  font-size: 1rem;\n",
       "  line-height: 1em;\n",
       "  font-family: monospace;\n",
       "  background-color: var(--sklearn-color-background);\n",
       "  border-radius: 1rem;\n",
       "  height: 1rem;\n",
       "  width: 1rem;\n",
       "  text-decoration: none;\n",
       "  /* unfitted */\n",
       "  color: var(--sklearn-color-unfitted-level-1);\n",
       "  border: var(--sklearn-color-unfitted-level-1) 1pt solid;\n",
       "}\n",
       "\n",
       "#sk-container-id-1 a.estimator_doc_link.fitted {\n",
       "  /* fitted */\n",
       "  border: var(--sklearn-color-fitted-level-1) 1pt solid;\n",
       "  color: var(--sklearn-color-fitted-level-1);\n",
       "}\n",
       "\n",
       "/* On hover */\n",
       "#sk-container-id-1 a.estimator_doc_link:hover {\n",
       "  /* unfitted */\n",
       "  background-color: var(--sklearn-color-unfitted-level-3);\n",
       "  color: var(--sklearn-color-background);\n",
       "  text-decoration: none;\n",
       "}\n",
       "\n",
       "#sk-container-id-1 a.estimator_doc_link.fitted:hover {\n",
       "  /* fitted */\n",
       "  background-color: var(--sklearn-color-fitted-level-3);\n",
       "}\n",
       "</style><div id=\"sk-container-id-1\" class=\"sk-top-container\"><div class=\"sk-text-repr-fallback\"><pre>GradientBoostingClassifier(random_state=42)</pre><b>In a Jupyter environment, please rerun this cell to show the HTML representation or trust the notebook. <br />On GitHub, the HTML representation is unable to render, please try loading this page with nbviewer.org.</b></div><div class=\"sk-container\" hidden><div class=\"sk-item\"><div class=\"sk-estimator fitted sk-toggleable\"><input class=\"sk-toggleable__control sk-hidden--visually\" id=\"sk-estimator-id-1\" type=\"checkbox\" checked><label for=\"sk-estimator-id-1\" class=\"sk-toggleable__label fitted sk-toggleable__label-arrow\"><div><div>GradientBoostingClassifier</div></div><div><a class=\"sk-estimator-doc-link fitted\" rel=\"noreferrer\" target=\"_blank\" href=\"https://scikit-learn.org/1.6/modules/generated/sklearn.ensemble.GradientBoostingClassifier.html\">?<span>Documentation for GradientBoostingClassifier</span></a><span class=\"sk-estimator-doc-link fitted\">i<span>Fitted</span></span></div></label><div class=\"sk-toggleable__content fitted\"><pre>GradientBoostingClassifier(random_state=42)</pre></div> </div></div></div></div>"
      ]
     },
     "execution_count": 7,
     "metadata": {},
     "output_type": "execute_result"
    }
   ],
   "execution_count": 7
  },
  {
   "metadata": {
    "ExecuteTime": {
     "end_time": "2025-04-13T02:38:13.931176Z",
     "start_time": "2025-04-13T02:38:13.927158Z"
    }
   },
   "cell_type": "code",
   "source": "print(f\"Hyperparameters of the default model: {model.get_params()}\")",
   "outputs": [
    {
     "name": "stdout",
     "output_type": "stream",
     "text": [
      "Hyperparameters of the default model: {'ccp_alpha': 0.0, 'criterion': 'friedman_mse', 'init': None, 'learning_rate': 0.1, 'loss': 'log_loss', 'max_depth': 3, 'max_features': None, 'max_leaf_nodes': None, 'min_impurity_decrease': 0.0, 'min_samples_leaf': 1, 'min_samples_split': 2, 'min_weight_fraction_leaf': 0.0, 'n_estimators': 100, 'n_iter_no_change': None, 'random_state': 42, 'subsample': 1.0, 'tol': 0.0001, 'validation_fraction': 0.1, 'verbose': 0, 'warm_start': False}\n"
     ]
    }
   ],
   "execution_count": 8
  },
  {
   "cell_type": "markdown",
   "metadata": {},
   "source": [
    "## Step 2: Model prediction"
   ]
  },
  {
   "cell_type": "code",
   "metadata": {
    "ExecuteTime": {
     "end_time": "2025-04-13T02:38:14.035688Z",
     "start_time": "2025-04-13T02:38:14.002153Z"
    }
   },
   "source": [
    "# make the prediction\n",
    "y_pred = model.predict(X_test)\n",
    "y_pred"
   ],
   "outputs": [
    {
     "data": {
      "text/plain": [
       "array([4, 4, 1, ..., 2, 4, 3])"
      ]
     },
     "execution_count": 9,
     "metadata": {},
     "output_type": "execute_result"
    }
   ],
   "execution_count": 9
  },
  {
   "cell_type": "code",
   "metadata": {
    "ExecuteTime": {
     "end_time": "2025-04-13T02:38:14.082902Z",
     "start_time": "2025-04-13T02:38:14.050206Z"
    }
   },
   "source": [
    "# make the prediction of the probabilities of being one class or another\n",
    "y_prob = model.predict_proba(X_test)"
   ],
   "outputs": [],
   "execution_count": 10
  },
  {
   "cell_type": "markdown",
   "metadata": {},
   "source": [
    "## Step 3: Metrics"
   ]
  },
  {
   "cell_type": "markdown",
   "metadata": {},
   "source": "Let's print the full report of the model"
  },
  {
   "metadata": {
    "ExecuteTime": {
     "end_time": "2025-04-13T02:38:14.122436Z",
     "start_time": "2025-04-13T02:38:14.118686Z"
    }
   },
   "cell_type": "code",
   "source": "labels: list[int] = [0, 1, 2, 3, 4, 5]",
   "outputs": [],
   "execution_count": 11
  },
  {
   "cell_type": "code",
   "metadata": {
    "ExecuteTime": {
     "end_time": "2025-04-13T02:38:14.186851Z",
     "start_time": "2025-04-13T02:38:14.149398Z"
    }
   },
   "source": [
    "from sklearn.metrics import (accuracy_score, precision_score, recall_score,\n",
    "                            f1_score, roc_auc_score, confusion_matrix,\n",
    "                            classification_report)\n",
    "\n",
    "\n",
    "default_model_accuracy = accuracy_score(y_test, y_pred)\n",
    "default_model_precision = precision_score(y_test, y_pred, average=\"weighted\", labels=labels)\n",
    "default_model_recall = recall_score(y_test, y_pred, average=\"weighted\", labels=labels)\n",
    "default_model_f1 = f1_score(y_test, y_pred, average=\"weighted\", labels=labels)\n",
    "default_model_auc_roc = roc_auc_score(y_test, y_prob, multi_class='ovo', labels=labels)\n",
    "default_model_confusion = confusion_matrix(y_test, y_pred, labels=labels)\n",
    "default_model_report = classification_report(y_test, y_pred, labels=labels)\n",
    "\n",
    "print(f'Accuracy: {default_model_accuracy}')\n",
    "print(f'Precision: {default_model_precision}')\n",
    "print(f'Recall: {default_model_recall}')\n",
    "print(f'F1-Score: {default_model_f1}')\n",
    "print(f'AUC-ROC: {default_model_auc_roc}')"
   ],
   "outputs": [
    {
     "name": "stdout",
     "output_type": "stream",
     "text": [
      "Accuracy: 0.9932170542635659\n",
      "Precision: 0.9932121580564631\n",
      "Recall: 0.9932170542635659\n",
      "F1-Score: 0.9932113658038362\n",
      "AUC-ROC: 0.9998322396623466\n"
     ]
    }
   ],
   "execution_count": 12
  },
  {
   "metadata": {
    "ExecuteTime": {
     "end_time": "2025-04-13T02:38:14.205339Z",
     "start_time": "2025-04-13T02:38:14.201921Z"
    }
   },
   "cell_type": "code",
   "source": "print(f'Classification Report:\\n\\n{default_model_report}')",
   "outputs": [
    {
     "name": "stdout",
     "output_type": "stream",
     "text": [
      "Classification Report:\n",
      "\n",
      "              precision    recall  f1-score   support\n",
      "\n",
      "           0       0.99      0.99      0.99       817\n",
      "           1       0.99      0.99      0.99       960\n",
      "           2       0.99      0.99      0.99       519\n",
      "           3       1.00      1.00      1.00      1388\n",
      "           4       0.99      0.99      0.99       338\n",
      "           5       0.97      0.95      0.96       106\n",
      "\n",
      "    accuracy                           0.99      4128\n",
      "   macro avg       0.99      0.99      0.99      4128\n",
      "weighted avg       0.99      0.99      0.99      4128\n",
      "\n"
     ]
    }
   ],
   "execution_count": 13
  },
  {
   "cell_type": "markdown",
   "metadata": {},
   "source": "Now let's draw the confusion matrix"
  },
  {
   "cell_type": "code",
   "metadata": {
    "ExecuteTime": {
     "end_time": "2025-04-13T02:38:14.406867Z",
     "start_time": "2025-04-13T02:38:14.213448Z"
    }
   },
   "source": [
    "import seaborn as sns\n",
    "from matplotlib import pyplot as plt\n",
    "\n",
    "\n",
    "plt.figure(figsize=(5, 5))\n",
    "\n",
    "sns.heatmap(default_model_confusion, annot=True, fmt='')\n",
    "\n",
    "plt.ylabel('True label')\n",
    "plt.xlabel('Predicted label')\n",
    "\n",
    "plt.tight_layout()\n",
    "plt.show()\n"
   ],
   "outputs": [
    {
     "data": {
      "text/plain": [
       "<Figure size 500x500 with 2 Axes>"
      ],
      "image/png": "[encoded data removed]"
     },
     "metadata": {},
     "output_type": "display_data"
    }
   ],
   "execution_count": 14
  },
  {
   "cell_type": "markdown",
   "metadata": {},
   "source": "This confusion matrix reads as follows: The value on Y axis is the true label and the value in the X axis is the predicted label. We can see a very good performance from the model."
  },
  {
   "cell_type": "markdown",
   "metadata": {},
   "source": [
    "# Option 2. Model with optimization"
   ]
  },
  {
   "cell_type": "code",
   "metadata": {
    "ExecuteTime": {
     "end_time": "2025-04-13T02:39:33.715360Z",
     "start_time": "2025-04-13T02:39:33.711981Z"
    }
   },
   "source": [
    "# create another model\n",
    "opt_model = GradientBoostingClassifier(random_state=42)"
   ],
   "outputs": [],
   "execution_count": 24
  },
  {
   "cell_type": "markdown",
   "metadata": {},
   "source": "## Step 1: Create the hyperparameter optimization model"
  },
  {
   "cell_type": "code",
   "metadata": {
    "ExecuteTime": {
     "end_time": "2025-04-13T02:39:34.738911Z",
     "start_time": "2025-04-13T02:39:34.734901Z"
    }
   },
   "source": [
    "from sklearn.model_selection import GridSearchCV\n",
    "\n",
    "# define the parameters that we want to adjust by hand, depends on the model to use\n",
    "param_grid  = {\n",
    "    'n_estimators': [100, 200, 300],\n",
    "    'learning_rate': [0.01, 0.1, 1],\n",
    "    'max_depth': [3, 5, 7],\n",
    "    'subsample': [0.7, 0.9],\n",
    "}\n",
    "\n",
    "# initialize the grid\n",
    "grid = GridSearchCV(opt_model, param_grid , scoring = 'accuracy', cv = 5, n_jobs=4, verbose=0)"
   ],
   "outputs": [],
   "execution_count": 25
  },
  {
   "cell_type": "markdown",
   "metadata": {},
   "source": [
    "## Step 2: Fit the model"
   ]
  },
  {
   "cell_type": "code",
   "metadata": {
    "ExecuteTime": {
     "end_time": "2025-04-13T03:01:05.003406Z",
     "start_time": "2025-04-13T02:39:35.613744Z"
    }
   },
   "source": [
    "grid.fit(X_train, y_train)\n",
    "\n",
    "print(f\"Best hyperparameters: {grid.best_params_}\")"
   ],
   "outputs": [
    {
     "name": "stdout",
     "output_type": "stream",
     "text": [
      "Best hyperparameters: {'learning_rate': 0.1, 'max_depth': 7, 'n_estimators': 300, 'subsample': 0.7}\n"
     ]
    }
   ],
   "execution_count": 26
  },
  {
   "cell_type": "markdown",
   "metadata": {},
   "source": [
    "## Step 3: Get the best model and predict"
   ]
  },
  {
   "cell_type": "code",
   "metadata": {
    "ExecuteTime": {
     "end_time": "2025-04-13T03:04:20.787199Z",
     "start_time": "2025-04-13T03:04:20.783194Z"
    }
   },
   "source": [
    "# get the best parameters and model\n",
    "best_params = grid.best_params_\n",
    "best_model: GradientBoostingClassifier = grid.best_estimator_"
   ],
   "outputs": [],
   "execution_count": 27
  },
  {
   "cell_type": "code",
   "metadata": {
    "ExecuteTime": {
     "end_time": "2025-04-13T03:04:24.003531Z",
     "start_time": "2025-04-13T03:04:23.863193Z"
    }
   },
   "source": [
    "# predict the values\n",
    "y_pred = best_model.predict(X_test)"
   ],
   "outputs": [],
   "execution_count": 28
  },
  {
   "cell_type": "code",
   "metadata": {
    "ExecuteTime": {
     "end_time": "2025-04-13T03:04:26.314410Z",
     "start_time": "2025-04-13T03:04:26.186067Z"
    }
   },
   "source": [
    "# make the prediction of the probabilities of being one class or another\n",
    "y_prob = best_model.predict_proba(X_test)"
   ],
   "outputs": [],
   "execution_count": 29
  },
  {
   "cell_type": "markdown",
   "metadata": {},
   "source": "## Step 4: Metrics of the model"
  },
  {
   "cell_type": "code",
   "metadata": {
    "ExecuteTime": {
     "end_time": "2025-04-13T03:04:27.493483Z",
     "start_time": "2025-04-13T03:04:27.456896Z"
    }
   },
   "source": [
    "from sklearn.metrics import (accuracy_score, precision_score, recall_score,\n",
    "                            f1_score, roc_auc_score, confusion_matrix,\n",
    "                            classification_report)\n",
    "\n",
    "\n",
    "optimized_model_accuracy = accuracy_score(y_test, y_pred)\n",
    "optimized_model_precision = precision_score(y_test, y_pred, average=\"weighted\", labels=labels)\n",
    "optimized_model_recall = recall_score(y_test, y_pred, average=\"weighted\", labels=labels)\n",
    "optimized_model_f1 = f1_score(y_test, y_pred, average=\"weighted\", labels=labels)\n",
    "optimized_model_auc_roc = roc_auc_score(y_test, y_prob, multi_class='ovo', labels=labels)\n",
    "optimized_model_confusion = confusion_matrix(y_test, y_pred, labels=labels)\n",
    "optimized_model_report = classification_report(y_test, y_pred, labels=labels)\n",
    "\n",
    "print(f'Accuracy: {optimized_model_accuracy}')\n",
    "print(f'Precision: {optimized_model_precision}')\n",
    "print(f'Recall: {default_model_recall}')\n",
    "print(f'F1-Score: {default_model_f1}')\n",
    "print(f'AUC-ROC: {default_model_auc_roc}')"
   ],
   "outputs": [
    {
     "name": "stdout",
     "output_type": "stream",
     "text": [
      "Accuracy: 0.9939437984496124\n",
      "Precision: 0.9939403247629365\n",
      "Recall: 0.9932170542635659\n",
      "F1-Score: 0.9932113658038362\n",
      "AUC-ROC: 0.9998322396623466\n"
     ]
    }
   ],
   "execution_count": 30
  },
  {
   "metadata": {
    "ExecuteTime": {
     "end_time": "2025-04-13T03:04:29.959982Z",
     "start_time": "2025-04-13T03:04:29.957099Z"
    }
   },
   "cell_type": "code",
   "source": "print(f'Classification Report:\\n\\n{default_model_report}')",
   "outputs": [
    {
     "name": "stdout",
     "output_type": "stream",
     "text": [
      "Classification Report:\n",
      "\n",
      "              precision    recall  f1-score   support\n",
      "\n",
      "           0       0.99      0.99      0.99       817\n",
      "           1       0.99      0.99      0.99       960\n",
      "           2       0.99      0.99      0.99       519\n",
      "           3       1.00      1.00      1.00      1388\n",
      "           4       0.99      0.99      0.99       338\n",
      "           5       0.97      0.95      0.96       106\n",
      "\n",
      "    accuracy                           0.99      4128\n",
      "   macro avg       0.99      0.99      0.99      4128\n",
      "weighted avg       0.99      0.99      0.99      4128\n",
      "\n"
     ]
    }
   ],
   "execution_count": 31
  },
  {
   "cell_type": "code",
   "metadata": {
    "ExecuteTime": {
     "end_time": "2025-04-13T03:04:31.625620Z",
     "start_time": "2025-04-13T03:04:31.458697Z"
    }
   },
   "source": [
    "import seaborn as sns\n",
    "from matplotlib import pyplot as plt\n",
    "\n",
    "\n",
    "plt.figure(figsize=(5, 5))\n",
    "\n",
    "sns.heatmap(optimized_model_confusion, annot=True, fmt='')\n",
    "\n",
    "plt.ylabel('True label')\n",
    "plt.xlabel('Predicted label')\n",
    "\n",
    "plt.tight_layout()\n",
    "plt.show()"
   ],
   "outputs": [
    {
     "data": {
      "text/plain": [
       "<Figure size 500x500 with 2 Axes>"
      ],
      "image/png": "[encoded data removed]"
     },
     "metadata": {},
     "output_type": "display_data"
    }
   ],
   "execution_count": 32
  },
  {
   "cell_type": "markdown",
   "metadata": {},
   "source": "This confusion matrix reads as follows: The value on Y axis is the true label and the value in the X axis is the predicted label. We can see this model has an even better performance than the default model."
  },
  {
   "metadata": {},
   "cell_type": "markdown",
   "source": "# Conclusion"
  },
  {
   "metadata": {
    "ExecuteTime": {
     "end_time": "2025-04-13T03:06:48.104230Z",
     "start_time": "2025-04-13T03:06:48.098353Z"
    }
   },
   "cell_type": "code",
   "source": [
    "\n",
    "from src.markdown_utils import show_comparison_table\n",
    "\n",
    "# set the metrics to use\n",
    "metrics: list[str] = ['Accuracy', 'Precision', 'Recall', 'F1-Score', 'AUC-ROC']\n",
    "\n",
    "# get the metrics of the default and optimized list values\n",
    "default_model_metrics: list[float] = [default_model_accuracy, default_model_precision, default_model_recall, default_model_f1, default_model_auc_roc]\n",
    "optimized_model_metrics: list[float] = [optimized_model_accuracy, optimized_model_precision, optimized_model_recall, optimized_model_f1, optimized_model_auc_roc]\n",
    "\n",
    "# construct the Markdown table\n",
    "show_comparison_table(\n",
    "    metric_names=metrics,\n",
    "    first_metrics=default_model_metrics,\n",
    "    second_metrics=optimized_model_metrics,\n",
    "    first_column_name=\"Default model\",\n",
    "    second_column_name=\"Optimized model\",\n",
    ")"
   ],
   "outputs": [
    {
     "data": {
      "text/plain": [
       "<IPython.core.display.Markdown object>"
      ],
      "text/markdown": "| Metric | Default model | Optimized model |\n|---|---|---|\n| Accuracy | 0.993 | 0.994 |\n| Precision | 0.993 | 0.994 |\n| Recall | 0.993 | 0.994 |\n| F1-Score | 0.993 | 0.994 |\n| AUC-ROC | 1.0 | 1.0 |\n"
     },
     "metadata": {},
     "output_type": "display_data"
    }
   ],
   "execution_count": 35
  },
  {
   "metadata": {
    "ExecuteTime": {
     "end_time": "2025-04-13T03:06:51.580037Z",
     "start_time": "2025-04-13T03:06:51.169493Z"
    }
   },
   "cell_type": "code",
   "source": [
    "_, axis = plt.subplots(1, 2, figsize=(20, 7))\n",
    "\n",
    "# first heatmap\n",
    "sns.heatmap(ax=axis[0], data=default_model_confusion, annot=True, fmt='').set(\n",
    "    xlabel=f'Default Model - Predicted label', ylabel='Predicted label'\n",
    ")\n",
    "\n",
    "# second heatmap\n",
    "sns.heatmap(ax=axis[1], data=optimized_model_confusion, annot=True, fmt='').set(\n",
    "    xlabel=f'Optimized Model - Predicted label', ylabel='True label'\n",
    ")\n",
    "\n",
    "plt.tight_layout()\n",
    "plt.show()"
   ],
   "outputs": [
    {
     "data": {
      "text/plain": [
       "<Figure size 2000x700 with 4 Axes>"
      ],
      "image/png": "[encoded data removed]"
     },
     "metadata": {},
     "output_type": "display_data"
    }
   ],
   "execution_count": 36
  },
  {
   "metadata": {},
   "cell_type": "markdown",
   "source": "#### Final Conclusion\n"
  },
  {
   "metadata": {},
   "cell_type": "markdown",
   "source": "We can see that the optimized model has a bit of a better performance with the label with less support, so the optimized one is the response to the declared problem."
  },
  {
   "metadata": {},
   "cell_type": "markdown",
   "source": "#### Shap study of the best model"
  },
  {
   "metadata": {
    "ExecuteTime": {
     "end_time": "2025-04-13T16:53:53.304976Z",
     "start_time": "2025-04-13T16:51:08.445639Z"
    }
   },
   "cell_type": "code",
   "source": [
    "import shap\n",
    "\n",
    "explainer = shap.Explainer(best_model.predict_proba, X_test)\n",
    "explanation = explainer(X_test)"
   ],
   "outputs": [
    {
     "name": "stderr",
     "output_type": "stream",
     "text": [
      "ExactExplainer explainer: 4129it [02:44, 23.49it/s]                          \n"
     ]
    }
   ],
   "execution_count": 80
  },
  {
   "metadata": {
    "ExecuteTime": {
     "end_time": "2025-04-13T17:22:29.157170Z",
     "start_time": "2025-04-13T17:22:29.011955Z"
    }
   },
   "cell_type": "code",
   "source": "shap.summary_plot(explanation, X_test, plot_size=[10,4])",
   "outputs": [
    {
     "data": {
      "text/plain": [
       "<Figure size 1000x400 with 1 Axes>"
      ],
      "image/png": "[encoded data removed]"
     },
     "metadata": {},
     "output_type": "display_data"
    }
   ],
   "execution_count": 86
  },
  {
   "metadata": {},
   "cell_type": "markdown",
   "source": [
    "The features Longitude and Latitude appear to have a similar level of importance with MedInc having a bit of more importance, all of this based on the length of their bars. In general this suggests that the model is using all three features significantly to make predictions.\n",
    "\n",
    "Class specific impact:\n",
    "\n",
    "**MedInc:**\n",
    "- MedInc has a varied impact across classes.\n",
    "- It seems to have a higher impact on predicting Class 3 and Class 0.\n",
    "- It has less impact on predicting Class 4 and 5.\n",
    "\n",
    "**Longitude:**\n",
    "- Longitude also has a varied impact.\n",
    "- It seems to have a higher impact on predicting Class 1 and 3.\n",
    "- It has less impact on predicting Class 0 and 5.\n",
    "\n",
    "**Latitude:**\n",
    "- Latitude shows a similar pattern to Longitude.\n",
    "- It has a higher impact on predicting Class 1. 3 and 4.\n",
    "- It has less impact on predicting Class 2 and 5.\n",
    "\n",
    "With this information a domain expert can create new labels for the user data. This ended up being the class study of how to create new data using a non-supervised model, getting in this stage now a domain expert can put a domain name to the created classes and have more information that can be use in the future with another models."
   ]
  },
  {
   "metadata": {},
   "cell_type": "markdown",
   "source": "# Save the model"
  },
  {
   "metadata": {},
   "cell_type": "markdown",
   "source": "Save the optimized model for future use."
  },
  {
   "metadata": {
    "ExecuteTime": {
     "end_time": "2025-04-13T17:34:57.286007Z",
     "start_time": "2025-04-13T17:34:57.232420Z"
    }
   },
   "cell_type": "code",
   "source": [
    "from pickle import dump\n",
    "\n",
    "with open(\"../models/optimized_xgboost.sav\", \"wb\") as file:\n",
    "    dump(best_model, file)"
   ],
   "outputs": [],
   "execution_count": 87
  }
 ],
 "metadata": {
  "kernelspec": {
   "display_name": "ds_venv",
   "language": "python",
   "name": "python3"
  },
  "language_info": {
   "codemirror_mode": {
    "name": "ipython",
    "version": 3
   },
   "file_extension": ".py",
   "mimetype": "text/x-python",
   "name": "python",
   "nbconvert_exporter": "python",
   "pygments_lexer": "ipython3",
   "version": "3.12.9"
  }
 },
 "nbformat": 4,
 "nbformat_minor": 2
}
